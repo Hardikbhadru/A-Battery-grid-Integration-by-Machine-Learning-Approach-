{
  "cells": [
    {
      "cell_type": "code",
      "source": [
        "from google.colab import drive\n",
        "drive.mount('/content/drive')\n"
      ],
      "metadata": {
        "colab": {
          "base_uri": "https://localhost:8080/"
        },
        "id": "oD6JJh-d1KAj",
        "outputId": "584e7650-9c4e-4e62-b809-5aa478f51942"
      },
      "execution_count": 1,
      "outputs": [
        {
          "output_type": "stream",
          "name": "stdout",
          "text": [
            "Mounted at /content/drive\n"
          ]
        }
      ]
    },
    {
      "cell_type": "code",
      "source": [
        "cd /content/drive/\"MyDrive/Colab Notebooks\""
      ],
      "metadata": {
        "colab": {
          "base_uri": "https://localhost:8080/"
        },
        "id": "VtkiPJZz1K2h",
        "outputId": "810648be-6682-4c95-d6c7-5249a54cafae"
      },
      "execution_count": 2,
      "outputs": [
        {
          "output_type": "stream",
          "name": "stdout",
          "text": [
            "/content/drive/MyDrive/Colab Notebooks\n"
          ]
        }
      ]
    },
    {
      "cell_type": "code",
      "execution_count": 7,
      "metadata": {
        "id": "20znrFCqwUZs",
        "outputId": "4f52a429-b9e7-4340-844d-2b216055135a",
        "colab": {
          "base_uri": "https://localhost:8080/"
        }
      },
      "outputs": [
        {
          "output_type": "stream",
          "name": "stdout",
          "text": [
            "5.9041066e-06\n",
            "4.385938e-06\n"
          ]
        }
      ],
      "source": [
        "import pandas as pd\n",
        "\n",
        "import matplotlib.pyplot as plt\n",
        "import seaborn as sns\n",
        "import os\n",
        "\n",
        "battery_dataset = pd.read_csv('./data0505.csv')\n",
        "\n",
        "\n",
        "battery_dataset = battery_dataset[battery_dataset[\"Power\"] > 0]\n",
        "battery_dataset = battery_dataset[battery_dataset[\"SOC\"] > 0]\n",
        "battery_dataset = battery_dataset[battery_dataset[\"SOH\"] > 0]\n",
        "\n",
        "battery_dataset[\"SEI_delta\"] = 1E-7*battery_dataset[\"SEI_delta\"]\n",
        "battery_dataset.tail()\n",
        "\n",
        "\n",
        "print(battery_dataset[\"SEI_delta\"].max())\n",
        "print(battery_dataset[\"SEI_delta\"].min())\n",
        "\n"
      ]
    },
    {
      "cell_type": "markdown",
      "metadata": {
        "id": "K7byi_C1wUZ9"
      },
      "source": [
        ""
      ]
    }
  ],
  "metadata": {
    "kernelspec": {
      "display_name": "Python 3",
      "language": "python",
      "name": "python3"
    },
    "language_info": {
      "codemirror_mode": {
        "name": "ipython",
        "version": 3
      },
      "file_extension": ".py",
      "mimetype": "text/x-python",
      "name": "python",
      "nbconvert_exporter": "python",
      "pygments_lexer": "ipython3",
      "version": "3.6.1"
    },
    "colab": {
      "name": "Visualization of Battery Data.ipynb",
      "provenance": [],
      "collapsed_sections": []
    }
  },
  "nbformat": 4,
  "nbformat_minor": 0
}